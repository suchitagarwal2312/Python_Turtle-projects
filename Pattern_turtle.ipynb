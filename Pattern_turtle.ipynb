{
 "cells": [
  {
   "cell_type": "code",
   "execution_count": null,
   "metadata": {},
   "outputs": [],
   "source": [
    "import turtle as tu"
   ]
  },
  {
   "cell_type": "code",
   "execution_count": null,
   "metadata": {},
   "outputs": [],
   "source": [
    "a = tu.Screen()\n",
    "a.bgcolor('light blue')\n",
    "\n",
    "s= tu.Turtle()\n",
    "s.speed('fastest')\n",
    "s.color('blue')\n",
    "rotate = int(180)\n",
    "\n",
    "#circle1\n",
    "\n",
    "def circles(t,size):\n",
    "    for i in range(10):\n",
    "        t.circle(size)\n",
    "        size = size-3\n",
    "def dc(t,size,repeat):\n",
    "    for i in range(repeat):\n",
    "        circles(t,size)\n",
    "        t.right(360/repeat)\n",
    "        \n",
    "dc(s,200,10)\n",
    "\n",
    "#circle2\n",
    "\n",
    "t1 = tu.Turtle()\n",
    "t1.speed(0)\n",
    "t1.color('green')\n",
    "rotate = int(90)\n",
    "\n",
    "def circles(t,size):\n",
    "    for i in range(4):\n",
    "        t.circle(size)\n",
    "        size = size-10\n",
    "def dc(t,size,repeat):\n",
    "    for i in range(repeat):\n",
    "        circles(t,size)\n",
    "        t.right(360/repeat)\n",
    "\n",
    "dc(t1,160,10)\n",
    "\n",
    "#cicle3\n",
    "\n",
    "t2 = tu.Turtle()\n",
    "t2.speed(0)\n",
    "t2.color('red')\n",
    "rotate = int(80)\n",
    "\n",
    "def circles(t,size):\n",
    "    for i in range(4):\n",
    "        t.circle(size)\n",
    "        size = size-5\n",
    "def dc(t,size,repeat):\n",
    "    for i in range(repeat):\n",
    "        circles(t,size)\n",
    "        t.right(360/repeat)\n",
    "\n",
    "dc(t2,120,10)\n",
    "\n",
    "#circle4\n",
    "t3 = tu.Turtle()\n",
    "t3.speed(0)\n",
    "t3.color('pink')\n",
    "rotate = int(90)\n",
    "\n",
    "def circles(t,size):\n",
    "    for i in range(t,size):\n",
    "        t.circle(size)\n",
    "        size = size-20\n",
    "def dc(t,size):\n",
    "    for i in range(repeat):\n",
    "        circles(t,size)\n",
    "        t.right(360/repeat)\n",
    "\n",
    "dc(t3,80,10)\n",
    "\n",
    "turtle.done()"
   ]
  },
  {
   "cell_type": "code",
   "execution_count": null,
   "metadata": {},
   "outputs": [],
   "source": []
  },
  {
   "cell_type": "code",
   "execution_count": null,
   "metadata": {},
   "outputs": [],
   "source": []
  },
  {
   "cell_type": "code",
   "execution_count": null,
   "metadata": {},
   "outputs": [],
   "source": []
  }
 ],
 "metadata": {
  "kernelspec": {
   "display_name": "Python 3",
   "language": "python",
   "name": "python3"
  },
  "language_info": {
   "codemirror_mode": {
    "name": "ipython",
    "version": 3
   },
   "file_extension": ".py",
   "mimetype": "text/x-python",
   "name": "python",
   "nbconvert_exporter": "python",
   "pygments_lexer": "ipython3",
   "version": "3.8.3"
  }
 },
 "nbformat": 4,
 "nbformat_minor": 4
}
